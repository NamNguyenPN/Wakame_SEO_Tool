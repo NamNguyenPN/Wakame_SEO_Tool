{
 "cells": [
  {
   "cell_type": "code",
   "execution_count": 1,
   "id": "c07a50d2-2e25-4deb-a1dd-6edd7008aa70",
   "metadata": {},
   "outputs": [],
   "source": [
    "from selenium import webdriver\n",
    "from selenium.webdriver.common.by import By\n",
    "from selenium.webdriver.common.keys import Keys\n",
    "from selenium.webdriver.support.ui import WebDriverWait as WDW\n",
    "from selenium.webdriver.chrome.service import Service\n",
    "import time\n",
    "import random as rd"
   ]
  },
  {
   "cell_type": "code",
   "execution_count": 5,
   "id": "62dafe47-cd37-4c34-8efb-2b9c19cfeb2a",
   "metadata": {},
   "outputs": [],
   "source": [
    "driver=webdriver.Chrome()\n",
    "driver.get(\"https://www.google.com\")"
   ]
  },
  {
   "cell_type": "code",
   "execution_count": 6,
   "id": "53ea3962-8e7b-444d-b033-527f3084e985",
   "metadata": {},
   "outputs": [],
   "source": [
    "key_words=\"Luyện thi JLPT Wakame\"\n",
    "search_box=driver.find_element(By.NAME,'q')\n",
    "search_box.click()\n",
    "for letter in key_words:\n",
    "    search_box.send_keys(letter)\n",
    "    speed=rd.uniform(0,1.5)\n",
    "    time.sleep(0.1)\n",
    "search_box.send_keys(Keys.ENTER)"
   ]
  },
  {
   "cell_type": "code",
   "execution_count": 54,
   "id": "10ac6561-1ee6-46a4-b965-f054ee7151d7",
   "metadata": {},
   "outputs": [
    {
     "name": "stdout",
     "output_type": "stream",
     "text": [
      "1 https://vnexpress.net › tag › rong-bien-wakame-381000\n",
      "2 https://vnexpress.net › cong-dung-thanh-mat-va-bo-du...\n",
      "3 https://www.vinmec.com › tin-tuc › dinh-duong › 8-loi...\n",
      "4 https://beta-thoitrangtre.thanhnien.vn › mi-wakame\n",
      "5 https://leep.app › Blogs\n",
      "6 https://acecookvietnam.vn › san-pham-mi-to-an-lien-wa...\n",
      "7 https://dantri.com.vn › mi-wakame › trang-2\n",
      ">>> 8 https://wakame-uit.online › blog\n",
      "9 https://moshimoshi.vn › Tất cả tin tức\n",
      "10 https://moshimoshi.vn › Tất cả tin tức\n",
      "11 http://kingmeat.vn › rong-bien-tuoi-wakame-seaweed-1...\n",
      "12 https://dantri.com.vn › mi-wakame\n",
      "13 https://phucthinhfood.com › rong-bien-wakame-30g\n",
      "14 https://healthplus.vn › tag › rong-bien-wakame\n",
      "15 https://f-green.vn › tin-tuc › rong-bien-tuoi-tron-me-nh...\n",
      "16 https://thienanjapan.com › rong-bien-wakame-100g\n",
      "17 https://avantapharma.com › tao-nau-wakame\n",
      "18 https://nppnguyenduc.com › ... › Tô - Ly - Khay\n",
      "19 https://phunutoday.vn › wakame-tag192794\n",
      "20 https://usmart.vn › collections › snack › products › ron...\n"
     ]
    }
   ],
   "source": [
    "path='//*[@id=\"rso\"]/div[1]/div/div/div[1]/a/div/cite'\n",
    "for i in range(1,21):\n",
    "    if(i%10!=0):\n",
    "        path='//*[@id=\"rso\"]/div['+str(i%10)\n",
    "    else:\n",
    "        path='//*[@id=\"rso\"]/div['+str(10)\n",
    "    if(i%10!=0):\n",
    "        path=path+']/div/div/div[1]/a'\n",
    "    else:\n",
    "        path=path+']/div/div/div/div[1]/a'\n",
    "    ele=driver.find_element(By.XPATH,path+'/div/cite')\n",
    "    if \"wakame-uit.online\" in ele.text:\n",
    "        print('>>>',i,ele.text)\n",
    "    else:\n",
    "        print(i,ele.text)\n",
    "    if (i%10==0 and i<20):\n",
    "        n_p='//*[@id=\"pnnext\"]'\n",
    "        next=driver.find_element(By.XPATH,n_p)\n",
    "        next.click()\n",
    "    "
   ]
  },
  {
   "cell_type": "code",
   "execution_count": 7,
   "id": "ba1e0b20-fcfd-452e-8d97-0896a2d39eca",
   "metadata": {},
   "outputs": [],
   "source": [
    "driver.quit()"
   ]
  },
  {
   "cell_type": "code",
   "execution_count": 9,
   "id": "2fc595a3-8ef1-49c5-81c3-eaad8a7c0ccd",
   "metadata": {},
   "outputs": [],
   "source": [
    "driver=webdriver.Chrome()\n",
    "driver.get(\"https://wakame-uit.online/blog\")"
   ]
  },
  {
   "cell_type": "code",
   "execution_count": 10,
   "id": "22235e3e-2ba3-45d4-b844-21b99ceaa91f",
   "metadata": {},
   "outputs": [],
   "source": [
    "p='/html/body/main/section[2]/div/div/div[1]/div/article['+str(1)+']/div[2]/a'\n",
    "e=driver.find_element(By.XPATH,p)\n",
    "e.click()"
   ]
  },
  {
   "cell_type": "code",
   "execution_count": 50,
   "id": "b1ebbac9-24c5-4038-9e4d-d8072d7aeca3",
   "metadata": {},
   "outputs": [],
   "source": [
    "driver=webdriver.Chrome()\n",
    "driver.get(\"https://fb.watch/5IruPZUQN-/\")\n",
    "time.sleep(5)\n"
   ]
  },
  {
   "cell_type": "code",
   "execution_count": 51,
   "id": "c0b3c6ee-f90f-4a8f-80f3-18a5a494f1e1",
   "metadata": {},
   "outputs": [],
   "source": [
    "e='//*[@id=\"js_2\"]/p[2]/a'\n",
    "d=driver.find_element(By.XPATH,e)\n",
    "d.click()"
   ]
  },
  {
   "cell_type": "code",
   "execution_count": 7,
   "id": "a258df77-494d-4024-b3cf-446012d58b56",
   "metadata": {},
   "outputs": [
    {
     "data": {
      "text/plain": [
       "'https://wakame-uit.online'"
      ]
     },
     "execution_count": 7,
     "metadata": {},
     "output_type": "execute_result"
    }
   ],
   "source": [
    "path='//*[@id=\"rso\"]//cite'\n",
    "d=driver.find_element(By.XPATH,path)\n",
    "d.text"
   ]
  },
  {
   "cell_type": "code",
   "execution_count": null,
   "id": "8024066c-01c2-4d43-8982-bebc4dce382a",
   "metadata": {},
   "outputs": [],
   "source": []
  }
 ],
 "metadata": {
  "kernelspec": {
   "display_name": "Python 3",
   "language": "python",
   "name": "python3"
  },
  "language_info": {
   "codemirror_mode": {
    "name": "ipython",
    "version": 3
   },
   "file_extension": ".py",
   "mimetype": "text/x-python",
   "name": "python",
   "nbconvert_exporter": "python",
   "pygments_lexer": "ipython3",
   "version": "3.7.10"
  }
 },
 "nbformat": 4,
 "nbformat_minor": 5
}
