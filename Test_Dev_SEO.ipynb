{
 "cells": [
  {
   "cell_type": "code",
   "execution_count": 1,
   "id": "c07a50d2-2e25-4deb-a1dd-6edd7008aa70",
   "metadata": {},
   "outputs": [],
   "source": [
    "from SEO import SEO"
   ]
  },
  {
   "cell_type": "code",
   "execution_count": 2,
   "id": "e5944a13-fe8c-4a0b-a991-43489c983a90",
   "metadata": {},
   "outputs": [],
   "source": [
    "## Số lượng bài viết trên trang đã có ##\n",
    "MAX=7\n",
    "########################################\n",
    "a=SEO()\n",
    "a.chrome(None)\n",
    "a.driver.get(\"https://wakame-uit.online/blog\")\n",
    "a.delay(2)"
   ]
  },
  {
   "cell_type": "code",
   "execution_count": null,
   "id": "be366836-d18a-4182-bbd5-6f758b5ae50f",
   "metadata": {},
   "outputs": [],
   "source": [
    "### 2 tính năng mới ###\n",
    "\n",
    "a.toContent(MAX)\n",
    "a.read(0.02) ## Mọi người chỉnh tốc độ đọc bằng tại đây, số càng lớn tốc độ đọc càng lâu\n",
    "\n",
    "###########################\n",
    "a.delay(5)\n",
    "a.quit()"
   ]
  },
  {
   "cell_type": "code",
   "execution_count": null,
   "id": "c7917b55-8785-4969-b1db-a5b084e2c9fe",
   "metadata": {},
   "outputs": [],
   "source": []
  }
 ],
 "metadata": {
  "kernelspec": {
   "display_name": "Python 3",
   "language": "python",
   "name": "python3"
  },
  "language_info": {
   "codemirror_mode": {
    "name": "ipython",
    "version": 3
   },
   "file_extension": ".py",
   "mimetype": "text/x-python",
   "name": "python",
   "nbconvert_exporter": "python",
   "pygments_lexer": "ipython3",
   "version": "3.7.10"
  }
 },
 "nbformat": 4,
 "nbformat_minor": 5
}
